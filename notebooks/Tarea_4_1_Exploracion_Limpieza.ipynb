{
 "cells": [
  {
   "cell_type": "markdown",
   "id": "c32689b9",
   "metadata": {},
   "source": [
    "<div>\n",
    "<img src=\"https://i.ibb.co/v3CvVz9/udd-short.png\" width=\"150\"/>\n",
    "    <br>\n",
    "    <strong>Universidad del Desarrollo</strong><br>\n",
    "    <em>Profesor: Fernando Becerra Saavedra </em><br>\n",
    "\n",
    "</div>\n",
    "\n",
    "# **Visualización de la Información: Tarea N° 4**\n",
    "*24 de Octubre de 2024*\n",
    "\n",
    "**Nombre Estudiante(s)**: `Jaime Castillo Castro - Kurt Castro Ortega - Sofía Vits Contreras - Erick Cisterna Contreras`\n",
    "\n",
    "\n",
    "**Dataset:** World Happiness Report- 2024\n",
    "\n",
    "**Fuente:** https://www.kaggle.com/datasets/jainaru/world-happiness-report-2024-yearly-updated/data"
   ]
  },
  {
   "cell_type": "markdown",
   "id": "031643f0",
   "metadata": {},
   "source": [
    "### **I. GENERALIDADES**"
   ]
  },
  {
   "cell_type": "markdown",
   "id": "b1993dd4",
   "metadata": {},
   "source": [
    "#### **1. Descripción general del dataset**\n",
    "\n",
    "El **World Happiness Report 2024** es un conjunto de datos que evalúa el bienestar de los países a nivel global. Utiliza varios indicadores que intentan capturar la felicidad de los ciudadanos a través de múltiples dimensiones económicas, sociales y psicológicas.\n",
    "\n",
    "#### **2. Columnas Dataset Principal**\n",
    "\n",
    "\n",
    "1. **Country name**: El nombre del país evaluado.\n",
    "2. **year**: El año en el que se tomaron las mediciones.\n",
    "3. **Life Ladder**: Una medida de la felicidad subjetiva de los ciudadanos (en una escala de 0 a 10), conocida como el \"escalera de la vida\", donde las personas evalúan su vida actual.\n",
    "4. **Log GDP per capita**: El PIB per cápita en una escala logarítmica. Representa la riqueza económica promedio de los ciudadanos en el país.\n",
    "5. **Social support**: Un índice que mide el nivel de apoyo social, es decir, si las personas tienen alguien en quien confiar en momentos de necesidad.\n",
    "6. **Healthy life expectancy at birth**: La esperanza de vida saludable al nacer, que mide cuántos años se espera que una persona viva en buena salud.\n",
    "7. **Freedom to make life choices**: Índice que mide la percepción de las personas sobre su libertad para tomar decisiones importantes en su vida.\n",
    "8. **Generosity**: Índice de generosidad, basado en la cantidad de donaciones y ayuda mutua dentro del país.\n",
    "9. **Perceptions of corruption**: Mide la percepción pública sobre los niveles de corrupción en las instituciones del gobierno y los negocios.\n",
    "10. **Positive affect**: La cantidad de experiencias positivas (como la risa y el disfrute) que una persona experimenta.\n",
    "11. **Negative affect**: Mide el grado de experiencias negativas (como tristeza y enojo) que las personas experimentan.\n",
    "\n",
    "\n",
    "#### **3. Columnas Dataset Secundario**\n",
    "\n",
    "\n",
    "12. **Continent**: Esta columna proviene desde un dataset adicional que permite agrupar a los países por continente (por ejemplo, Asia, Europa, África, etc.).\n",
    "\n",
    "#### **4. Propósito del dataset**\n",
    "\n",
    "El objetivo de este dataset es proporcionar una medida comprensiva de la felicidad global. Los indicadores económicos como el PIB per cápita y la esperanza de vida saludable se combinan con variables sociales y emocionales, como el apoyo social y la percepción de corrupción, para crear una imagen más completa del bienestar de los ciudadanos en cada país."
   ]
  },
  {
   "cell_type": "markdown",
   "id": "39c190b8",
   "metadata": {},
   "source": [
    "### **II. DESARROLLO**"
   ]
  },
  {
   "cell_type": "markdown",
   "id": "521c9ece",
   "metadata": {},
   "source": [
    "#### **Paso 1: Importación de Librerías**"
   ]
  },
  {
   "cell_type": "code",
   "execution_count": 24,
   "id": "c351e2e5",
   "metadata": {},
   "outputs": [],
   "source": [
    "import pandas as pd\n",
    "import matplotlib.pyplot as plt\n",
    "import seaborn as sns\n",
    "import numpy as np\n",
    "import geopandas as gpd\n",
    "import matplotlib as mpl\n",
    "from pySankey.sankey import sankey\n",
    "import squarify\n",
    "from flexitext import flexitext\n",
    "from matplotlib import lines\n",
    "from matplotlib import patches\n",
    "from matplotlib.patheffects import withStroke\n",
    "from matplotlib.patches import Rectangle\n",
    "import warnings\n",
    "warnings.filterwarnings(\"ignore\")"
   ]
  },
  {
   "cell_type": "markdown",
   "id": "3c3679d9",
   "metadata": {},
   "source": [
    "#### **Paso 2: Carga de Datos**"
   ]
  },
  {
   "cell_type": "markdown",
   "id": "afdbd8fd",
   "metadata": {},
   "source": [
    "A continuación, se carga la base de datos World-happiness-report-updated_2024 y adicionalmente se carga una base de datos de los paises por continente, la cual tiene por finalidad realizar un cruce de información y agregar una columna calculada en la base de datos inicial."
   ]
  },
  {
   "cell_type": "code",
   "execution_count": 25,
   "id": "096fe47d",
   "metadata": {},
   "outputs": [
    {
     "name": "stdout",
     "output_type": "stream",
     "text": [
      "  Country name  year  Life Ladder  Log GDP per capita  Social support  \\\n",
      "0  Afghanistan  2008        3.724               7.350           0.451   \n",
      "1  Afghanistan  2009        4.402               7.509           0.552   \n",
      "2  Afghanistan  2010        4.758               7.614           0.539   \n",
      "3  Afghanistan  2011        3.832               7.581           0.521   \n",
      "4  Afghanistan  2012        3.783               7.661           0.521   \n",
      "\n",
      "   Healthy life expectancy at birth  Freedom to make life choices  Generosity  \\\n",
      "0                              50.5                         0.718       0.164   \n",
      "1                              50.8                         0.679       0.187   \n",
      "2                              51.1                         0.600       0.118   \n",
      "3                              51.4                         0.496       0.160   \n",
      "4                              51.7                         0.531       0.234   \n",
      "\n",
      "   Perceptions of corruption  Positive affect  Negative affect Continent  \n",
      "0                      0.882            0.414            0.258      Asia  \n",
      "1                      0.850            0.481            0.237      Asia  \n",
      "2                      0.707            0.517            0.275      Asia  \n",
      "3                      0.731            0.480            0.267      Asia  \n",
      "4                      0.776            0.614            0.268      Asia  \n"
     ]
    }
   ],
   "source": [
    "# Cargar el dataset principal\n",
    "ruta = \"../Data/World-happiness-report-updated_2024.csv\"\n",
    "df = pd.read_csv(ruta, encoding='latin1')\n",
    "\n",
    "# Cargar el dataset de países y continentes\n",
    "ruta_paises = \"../Data/Countries by continents.csv\"\n",
    "df_paises_continente = pd.read_csv(ruta_paises, sep=';')\n",
    "\n",
    "# los nombres de las columnas coincidan para la combinacion\n",
    "df_paises_continente = df_paises_continente.rename(columns={'Country': 'Country name'})\n",
    "\n",
    "# Combinar ambos datasets usando la columna 'Country name'\n",
    "df_merged = pd.merge(df, df_paises_continente, on='Country name', how='left')\n",
    "\n",
    "# Verificar las primeras filas para asegurarse de que el continente fue agregado\n",
    "print(df_merged.head())"
   ]
  },
  {
   "cell_type": "markdown",
   "id": "ee999b5f",
   "metadata": {},
   "source": [
    "#### **Paso 3: Análisis Explotario**"
   ]
  },
  {
   "cell_type": "code",
   "execution_count": 26,
   "id": "3aaea9b9",
   "metadata": {},
   "outputs": [
    {
     "data": {
      "text/plain": [
       "(2363, 12)"
      ]
     },
     "execution_count": 26,
     "metadata": {},
     "output_type": "execute_result"
    }
   ],
   "source": [
    "# Mostrar el tamaño del dataframe\n",
    "df_merged.shape"
   ]
  },
  {
   "cell_type": "code",
   "execution_count": 27,
   "id": "db7be866",
   "metadata": {},
   "outputs": [
    {
     "name": "stdout",
     "output_type": "stream",
     "text": [
      "<class 'pandas.core.frame.DataFrame'>\n",
      "RangeIndex: 2363 entries, 0 to 2362\n",
      "Data columns (total 12 columns):\n",
      " #   Column                            Non-Null Count  Dtype  \n",
      "---  ------                            --------------  -----  \n",
      " 0   Country name                      2363 non-null   object \n",
      " 1   year                              2363 non-null   int64  \n",
      " 2   Life Ladder                       2363 non-null   float64\n",
      " 3   Log GDP per capita                2335 non-null   float64\n",
      " 4   Social support                    2350 non-null   float64\n",
      " 5   Healthy life expectancy at birth  2300 non-null   float64\n",
      " 6   Freedom to make life choices      2327 non-null   float64\n",
      " 7   Generosity                        2282 non-null   float64\n",
      " 8   Perceptions of corruption         2238 non-null   float64\n",
      " 9   Positive affect                   2339 non-null   float64\n",
      " 10  Negative affect                   2347 non-null   float64\n",
      " 11  Continent                         2363 non-null   object \n",
      "dtypes: float64(9), int64(1), object(2)\n",
      "memory usage: 221.7+ KB\n"
     ]
    }
   ],
   "source": [
    "# Mostrar información de dataframe\n",
    "df_merged.info()"
   ]
  },
  {
   "cell_type": "code",
   "execution_count": 28,
   "id": "30235f53",
   "metadata": {},
   "outputs": [
    {
     "name": "stdout",
     "output_type": "stream",
     "text": [
      "El número de variables numéricas es:  10\n",
      "Las variables numéricas son: Index(['year', 'Life Ladder', 'Log GDP per capita', 'Social support',\n",
      "       'Healthy life expectancy at birth', 'Freedom to make life choices',\n",
      "       'Generosity', 'Perceptions of corruption', 'Positive affect',\n",
      "       'Negative affect'],\n",
      "      dtype='object')\n"
     ]
    }
   ],
   "source": [
    "# Separar variables numéricas\n",
    "numerical_variables = df_merged.dtypes[df_merged.dtypes != 'object'].index\n",
    "print('El número de variables numéricas es: ', len(numerical_variables))\n",
    "print('Las variables numéricas son:', numerical_variables)"
   ]
  },
  {
   "cell_type": "code",
   "execution_count": 29,
   "id": "7a2c3fd3",
   "metadata": {},
   "outputs": [
    {
     "name": "stdout",
     "output_type": "stream",
     "text": [
      "El número de variables categóricas es 2\n",
      "Las variables categóricas son: Index(['Country name', 'Continent'], dtype='object')\n"
     ]
    }
   ],
   "source": [
    "# Separar variables categóricas\n",
    "categorical_variables = df_merged.dtypes[df_merged.dtypes == 'object'].index\n",
    "print('El número de variables categóricas es', len(categorical_variables))\n",
    "print('Las variables categóricas son:', categorical_variables)"
   ]
  },
  {
   "cell_type": "code",
   "execution_count": 30,
   "id": "c5c29ce2",
   "metadata": {},
   "outputs": [
    {
     "data": {
      "text/html": [
       "<div>\n",
       "<style scoped>\n",
       "    .dataframe tbody tr th:only-of-type {\n",
       "        vertical-align: middle;\n",
       "    }\n",
       "\n",
       "    .dataframe tbody tr th {\n",
       "        vertical-align: top;\n",
       "    }\n",
       "\n",
       "    .dataframe thead th {\n",
       "        text-align: right;\n",
       "    }\n",
       "</style>\n",
       "<table border=\"1\" class=\"dataframe\">\n",
       "  <thead>\n",
       "    <tr style=\"text-align: right;\">\n",
       "      <th></th>\n",
       "      <th>year</th>\n",
       "      <th>Life Ladder</th>\n",
       "      <th>Log GDP per capita</th>\n",
       "      <th>Social support</th>\n",
       "      <th>Healthy life expectancy at birth</th>\n",
       "      <th>Freedom to make life choices</th>\n",
       "      <th>Generosity</th>\n",
       "      <th>Perceptions of corruption</th>\n",
       "      <th>Positive affect</th>\n",
       "      <th>Negative affect</th>\n",
       "    </tr>\n",
       "  </thead>\n",
       "  <tbody>\n",
       "    <tr>\n",
       "      <th>count</th>\n",
       "      <td>2363.000000</td>\n",
       "      <td>2363.000000</td>\n",
       "      <td>2335.000000</td>\n",
       "      <td>2350.000000</td>\n",
       "      <td>2300.000000</td>\n",
       "      <td>2327.000000</td>\n",
       "      <td>2282.000000</td>\n",
       "      <td>2238.000000</td>\n",
       "      <td>2339.000000</td>\n",
       "      <td>2347.000000</td>\n",
       "    </tr>\n",
       "    <tr>\n",
       "      <th>mean</th>\n",
       "      <td>2014.763860</td>\n",
       "      <td>5.483566</td>\n",
       "      <td>9.399671</td>\n",
       "      <td>0.809369</td>\n",
       "      <td>63.401828</td>\n",
       "      <td>0.750282</td>\n",
       "      <td>0.000098</td>\n",
       "      <td>0.743971</td>\n",
       "      <td>0.651882</td>\n",
       "      <td>0.273151</td>\n",
       "    </tr>\n",
       "    <tr>\n",
       "      <th>std</th>\n",
       "      <td>5.059436</td>\n",
       "      <td>1.125522</td>\n",
       "      <td>1.152069</td>\n",
       "      <td>0.121212</td>\n",
       "      <td>6.842644</td>\n",
       "      <td>0.139357</td>\n",
       "      <td>0.161388</td>\n",
       "      <td>0.184865</td>\n",
       "      <td>0.106240</td>\n",
       "      <td>0.087131</td>\n",
       "    </tr>\n",
       "    <tr>\n",
       "      <th>min</th>\n",
       "      <td>2005.000000</td>\n",
       "      <td>1.281000</td>\n",
       "      <td>5.527000</td>\n",
       "      <td>0.228000</td>\n",
       "      <td>6.720000</td>\n",
       "      <td>0.228000</td>\n",
       "      <td>-0.340000</td>\n",
       "      <td>0.035000</td>\n",
       "      <td>0.179000</td>\n",
       "      <td>0.083000</td>\n",
       "    </tr>\n",
       "    <tr>\n",
       "      <th>25%</th>\n",
       "      <td>2011.000000</td>\n",
       "      <td>4.647000</td>\n",
       "      <td>8.506500</td>\n",
       "      <td>0.744000</td>\n",
       "      <td>59.195000</td>\n",
       "      <td>0.661000</td>\n",
       "      <td>-0.112000</td>\n",
       "      <td>0.687000</td>\n",
       "      <td>0.572000</td>\n",
       "      <td>0.209000</td>\n",
       "    </tr>\n",
       "    <tr>\n",
       "      <th>50%</th>\n",
       "      <td>2015.000000</td>\n",
       "      <td>5.449000</td>\n",
       "      <td>9.503000</td>\n",
       "      <td>0.834500</td>\n",
       "      <td>65.100000</td>\n",
       "      <td>0.771000</td>\n",
       "      <td>-0.022000</td>\n",
       "      <td>0.798500</td>\n",
       "      <td>0.663000</td>\n",
       "      <td>0.262000</td>\n",
       "    </tr>\n",
       "    <tr>\n",
       "      <th>75%</th>\n",
       "      <td>2019.000000</td>\n",
       "      <td>6.323500</td>\n",
       "      <td>10.392500</td>\n",
       "      <td>0.904000</td>\n",
       "      <td>68.552500</td>\n",
       "      <td>0.862000</td>\n",
       "      <td>0.093750</td>\n",
       "      <td>0.867750</td>\n",
       "      <td>0.737000</td>\n",
       "      <td>0.326000</td>\n",
       "    </tr>\n",
       "    <tr>\n",
       "      <th>max</th>\n",
       "      <td>2023.000000</td>\n",
       "      <td>8.019000</td>\n",
       "      <td>11.676000</td>\n",
       "      <td>0.987000</td>\n",
       "      <td>74.600000</td>\n",
       "      <td>0.985000</td>\n",
       "      <td>0.700000</td>\n",
       "      <td>0.983000</td>\n",
       "      <td>0.884000</td>\n",
       "      <td>0.705000</td>\n",
       "    </tr>\n",
       "  </tbody>\n",
       "</table>\n",
       "</div>"
      ],
      "text/plain": [
       "              year  Life Ladder  Log GDP per capita  Social support  \\\n",
       "count  2363.000000  2363.000000         2335.000000     2350.000000   \n",
       "mean   2014.763860     5.483566            9.399671        0.809369   \n",
       "std       5.059436     1.125522            1.152069        0.121212   \n",
       "min    2005.000000     1.281000            5.527000        0.228000   \n",
       "25%    2011.000000     4.647000            8.506500        0.744000   \n",
       "50%    2015.000000     5.449000            9.503000        0.834500   \n",
       "75%    2019.000000     6.323500           10.392500        0.904000   \n",
       "max    2023.000000     8.019000           11.676000        0.987000   \n",
       "\n",
       "       Healthy life expectancy at birth  Freedom to make life choices  \\\n",
       "count                       2300.000000                   2327.000000   \n",
       "mean                          63.401828                      0.750282   \n",
       "std                            6.842644                      0.139357   \n",
       "min                            6.720000                      0.228000   \n",
       "25%                           59.195000                      0.661000   \n",
       "50%                           65.100000                      0.771000   \n",
       "75%                           68.552500                      0.862000   \n",
       "max                           74.600000                      0.985000   \n",
       "\n",
       "        Generosity  Perceptions of corruption  Positive affect  \\\n",
       "count  2282.000000                2238.000000      2339.000000   \n",
       "mean      0.000098                   0.743971         0.651882   \n",
       "std       0.161388                   0.184865         0.106240   \n",
       "min      -0.340000                   0.035000         0.179000   \n",
       "25%      -0.112000                   0.687000         0.572000   \n",
       "50%      -0.022000                   0.798500         0.663000   \n",
       "75%       0.093750                   0.867750         0.737000   \n",
       "max       0.700000                   0.983000         0.884000   \n",
       "\n",
       "       Negative affect  \n",
       "count      2347.000000  \n",
       "mean          0.273151  \n",
       "std           0.087131  \n",
       "min           0.083000  \n",
       "25%           0.209000  \n",
       "50%           0.262000  \n",
       "75%           0.326000  \n",
       "max           0.705000  "
      ]
     },
     "execution_count": 30,
     "metadata": {},
     "output_type": "execute_result"
    }
   ],
   "source": [
    "# Mostrar datos estadísticos de variables numéricas\n",
    "df_merged.describe()"
   ]
  },
  {
   "cell_type": "code",
   "execution_count": 31,
   "id": "86a0f7bc",
   "metadata": {},
   "outputs": [
    {
     "data": {
      "text/html": [
       "<div>\n",
       "<style scoped>\n",
       "    .dataframe tbody tr th:only-of-type {\n",
       "        vertical-align: middle;\n",
       "    }\n",
       "\n",
       "    .dataframe tbody tr th {\n",
       "        vertical-align: top;\n",
       "    }\n",
       "\n",
       "    .dataframe thead th {\n",
       "        text-align: right;\n",
       "    }\n",
       "</style>\n",
       "<table border=\"1\" class=\"dataframe\">\n",
       "  <thead>\n",
       "    <tr style=\"text-align: right;\">\n",
       "      <th></th>\n",
       "      <th>Country name</th>\n",
       "      <th>Continent</th>\n",
       "    </tr>\n",
       "  </thead>\n",
       "  <tbody>\n",
       "    <tr>\n",
       "      <th>count</th>\n",
       "      <td>2363</td>\n",
       "      <td>2363</td>\n",
       "    </tr>\n",
       "    <tr>\n",
       "      <th>unique</th>\n",
       "      <td>165</td>\n",
       "      <td>6</td>\n",
       "    </tr>\n",
       "    <tr>\n",
       "      <th>top</th>\n",
       "      <td>Lebanon</td>\n",
       "      <td>Europe</td>\n",
       "    </tr>\n",
       "    <tr>\n",
       "      <th>freq</th>\n",
       "      <td>18</td>\n",
       "      <td>718</td>\n",
       "    </tr>\n",
       "  </tbody>\n",
       "</table>\n",
       "</div>"
      ],
      "text/plain": [
       "       Country name Continent\n",
       "count          2363      2363\n",
       "unique          165         6\n",
       "top         Lebanon    Europe\n",
       "freq             18       718"
      ]
     },
     "execution_count": 31,
     "metadata": {},
     "output_type": "execute_result"
    }
   ],
   "source": [
    "# Mostrar datos estadísticos de variables categóricas\n",
    "df_merged.describe(include=object)"
   ]
  },
  {
   "cell_type": "code",
   "execution_count": 32,
   "id": "e1f2aeeb",
   "metadata": {},
   "outputs": [
    {
     "data": {
      "image/png": "[encoded data removed]",
      "text/plain": [
       "<Figure size 1600x1500 with 10 Axes>"
      ]
     },
     "metadata": {},
     "output_type": "display_data"
    }
   ],
   "source": [
    "# Revisión de existencia de Outliers en variables numéricas\n",
    "cols_num = ['year', 'Life Ladder', 'Log GDP per capita', 'Social support', 'Healthy life expectancy at birth',\n",
    "            'Freedom to make life choices', 'Generosity', 'Perceptions of corruption', 'Positive affect', 'Negative affect']\n",
    "\n",
    "# Crear la figura con 5 filas y 2 columnas\n",
    "fig, ax = plt.subplots(nrows=5, ncols=2, figsize=(16, 15))  # Tamaño ajustado para mejor visualización\n",
    "fig.subplots_adjust(hspace=0.5)  # Ajuste del espacio vertical entre gráficos\n",
    "\n",
    "# Recorrer las variables numéricas y graficar cada boxplot\n",
    "for i, col in enumerate(cols_num):\n",
    "    row = i // 2  # Índice de la fila\n",
    "    col_idx = i % 2  # Índice de la columna\n",
    "    sns.boxplot(x=col, data=df_merged, ax=ax[row, col_idx])  # Graficar en el eje correspondiente\n",
    "    ax[row, col_idx].set_title(col)  # Establecer título de cada boxplot\n",
    "\n",
    "# Mostrar el gráfico\n",
    "plt.show()"
   ]
  },
  {
   "cell_type": "markdown",
   "id": "60198bcc",
   "metadata": {},
   "source": [
    "Análisis de las diferentes variables del dataset a través de boxplots. Esto, para analizar outliers, y tener un panorama general de como se distribuyen los datos dentro de cada una de las variables:\n",
    "\n",
    "1. **Year (Año)**:\n",
    "\n",
    "- El rango de los datos va de 2005 a 2022, donde se encuentran distribuidos los datos mayormente en los años 2011 a 2018. No se ven outliers.\n",
    "\n",
    "2. **Life Ladder (Escalera de vida)**:\n",
    "\n",
    "- Mide la percepción de las personas sobre su bienestar general.\n",
    "La mediana está alrededor de 5.5, lo que significa que, en general, las personas evalúan su felicidad en ese nivel en una escala de 0 a 10.\n",
    "Hay algunos datos atípicos en el extremo izquierdo, lo que sugiere que en algunos países las personas se sienten mucho menos felices que en otros países.\n",
    "\n",
    "3. **Log GDP per capita (Logaritmo del PIB per cápita)**:\n",
    "\n",
    "- Representa el bienestar económico. Un PIB per cápita más alto generalmente está asociado con mayor bienestar.\n",
    "La mediana está alrededor de 9.5, lo que sugiere que la mayoría de los países tienen un nivel económico moderado.\n",
    "No hay muchos datos atípicos, lo que indica que la mayoría de los países tienen valores similares en esta medida.\n",
    "\n",
    "4. **Social support (Apoyo social)**:\n",
    "\n",
    "- Mide la percepción de las personas sobre el apoyo que reciben de su entorno.\n",
    "La mediana está en 0.8, lo que sugiere que la mayoría de las personas sienten que tienen un buen apoyo social.\n",
    "Los outliers en el extremo izquierdo, sugiere que personas de algunos países sienten que tienen muy poco apoyo social.\n",
    "\n",
    "5. **Healthy life expectancy at birth (Esperanza de vida saludable al nacer)**:\n",
    "\n",
    "- Representa cuántos años una persona puede esperar vivir con buena salud.\n",
    "La mediana está alrededor de 60 años, con algunos valores atípicos más bajos. Lo que indica que en general, las personas estiman llegar con buena salud hasta un poco antes de ser adultos mayores.\n",
    "\n",
    "6. **Freedom to make life choices (Libertad para tomar decisiones)**:\n",
    "\n",
    "- Mide la percepción de las personas sobre su libertad para tomar decisiones.\n",
    "La mediana está alrededor de 0.75, lo que sugiere que la mayoría de las personas sienten que tienen una cantidad considerable de libertad para tomar decisiones importantes.\n",
    "Hay datos atípicos en el extremo izquierdo, lo que significa que algunas personas sienten muy poca libertad.\n",
    "\n",
    "7. **Generosity (Generosidad)**:\n",
    "\n",
    "- Mide la disposición de las personas a ser generosas.\n",
    "La mediana es cercana a cero, lo que indica que, en promedio, la generosidad no es un factor relevante.\n",
    "Existen muchos valores atípicos al lado derecho del boxplot, lo que significa que algunos países son mucho más generosos que otros.\n",
    "\n",
    "8. **Perceptions of corruption (Percepciones de corrupción)**:\n",
    "\n",
    "- Mide cómo perciben las personas los niveles de corrupción en sus países.\n",
    "La mediana está cerca de 0.75, lo que indica que muchas personas consideran que la corrupción es un problema moderado o serio.\n",
    "Existen muchos valores atípicos en la parte izquierda, lo que sugiere que algunos países perciben niveles muy bajos de corrupción.\n",
    "\n",
    "9. **Positive affect (Afecto positivo)**:\n",
    "\n",
    "- Mide el grado de emociones positivas que experimentan las personas, como felicidad o risas.\n",
    "La mediana está alrededor de 0.7, lo que indica que la mayoría de las personas experimentan emociones positivas regularmente.\n",
    "Existen algunos valores atípicos en la parte inferior, lo que sugiere que algunas personas experimentan niveles muy bajos de emociones positivas.\n",
    "\n",
    "10. **Negative affect (Afecto negativo)**:\n",
    "\n",
    "- Mide el grado de emociones negativas, como preocupación o tristeza.\n",
    "La mediana está alrededor de 0.2 y 0.3, lo que indica que la mayoría de las personas no experimentan emociones negativas de manera frecuente.\n",
    "Hay muchos valores atípicos en la parte superior, lo que indica que algunas personas experimentan emociones negativas con mayor frecuencia que en otros países."
   ]
  },
  {
   "cell_type": "code",
   "execution_count": 33,
   "id": "1dd034bf",
   "metadata": {},
   "outputs": [
    {
     "name": "stdout",
     "output_type": "stream",
     "text": [
      "Valores faltantes iniciales por columna:\n",
      " Country name                          0\n",
      "year                                  0\n",
      "Life Ladder                           0\n",
      "Log GDP per capita                   28\n",
      "Social support                       13\n",
      "Healthy life expectancy at birth     63\n",
      "Freedom to make life choices         36\n",
      "Generosity                           81\n",
      "Perceptions of corruption           125\n",
      "Positive affect                      24\n",
      "Negative affect                      16\n",
      "Continent                             0\n",
      "dtype: int64\n"
     ]
    }
   ],
   "source": [
    "# Análisis de la existencia de valores nulos\n",
    "valores_nulos = df_merged.isnull().sum()\n",
    "print(\"Valores faltantes iniciales por columna:\\n\", valores_nulos)"
   ]
  },
  {
   "cell_type": "markdown",
   "id": "c0dbacd2",
   "metadata": {},
   "source": [
    "#### **Paso 4: Limpieza de Datos**"
   ]
  },
  {
   "cell_type": "markdown",
   "id": "e9db2da7",
   "metadata": {},
   "source": [
    "1. El proceso de limpieza de datos comenzará utilizando el criterio de eliminar aquellas filas (países) donde la cantidad de valores faltantes superen el 50%."
   ]
  },
  {
   "cell_type": "code",
   "execution_count": 34,
   "id": "b21b72f5",
   "metadata": {},
   "outputs": [
    {
     "name": "stdout",
     "output_type": "stream",
     "text": [
      "              Country name  year  Life Ladder  Log GDP per capita  \\\n",
      "135                Bahrain  2014        6.165              10.802   \n",
      "1123                Kuwait  2014        6.180              10.926   \n",
      "1721                 Qatar  2015        6.375              11.532   \n",
      "2197  United Arab Emirates  2014        6.540              11.072   \n",
      "2307               Vietnam  2017        5.175               9.111   \n",
      "\n",
      "      Social support  Healthy life expectancy at birth  \\\n",
      "135              NaN                             65.96   \n",
      "1123             NaN                             70.00   \n",
      "1721             NaN                             66.40   \n",
      "2197             NaN                             65.34   \n",
      "2307             NaN                             65.10   \n",
      "\n",
      "      Freedom to make life choices  Generosity  Perceptions of corruption  \\\n",
      "135                            NaN         NaN                        NaN   \n",
      "1123                           NaN         NaN                        NaN   \n",
      "1721                           NaN         NaN                        NaN   \n",
      "2197                           NaN         NaN                        NaN   \n",
      "2307                           NaN         NaN                        NaN   \n",
      "\n",
      "      Positive affect  Negative affect  \n",
      "135               NaN              NaN  \n",
      "1123              NaN              NaN  \n",
      "1721              NaN              NaN  \n",
      "2197              NaN              NaN  \n",
      "2307              NaN              NaN  \n"
     ]
    }
   ],
   "source": [
    "# Eliminar filas con más del 50% de valores faltantes\n",
    "\n",
    "param = df.shape[1] * 0.5\n",
    "\n",
    "# Identificar las filas que tienen más del 50% de valores faltantes\n",
    "\n",
    "filas_elim = df[df.isnull().sum(axis=1) > param]\n",
    "\n",
    "# Mostrar las filas que tienen más del 50% de valores faltantes\n",
    "print(filas_elim)\n",
    "df_cleaned = df_merged.dropna(thresh=param)"
   ]
  },
  {
   "cell_type": "markdown",
   "id": "63d3214d",
   "metadata": {},
   "source": [
    "2. Para los valores faltantes que aún existen en el dataframe, serán reemplazados con la mediana respectiva. Para esto, se considerarán 2 criterios de imputación de datos; el primero nos indica que se reemplazarán los datos vacíos con la mediana del país respectivo. Por otro lado, el segundo nos indica que en caso de no encontrar datos de la columna respectiva y tampoco del país, se completará con la mediana del continente. "
   ]
  },
  {
   "cell_type": "code",
   "execution_count": 35,
   "id": "1ec0fecd",
   "metadata": {},
   "outputs": [],
   "source": [
    "# Función para rellenar los valores faltantes por país y continente\n",
    "def rellenar_faltantes(df, column):\n",
    "    # Rellenar primero con la mediana por país\n",
    "    df[column] = df.groupby('Country name')[column].transform(lambda x: x.fillna(x.median()))\n",
    "    \n",
    "    # Rellenar los que aún estén faltantes con la mediana por continente\n",
    "    df[column] = df.groupby('Continent')[column].transform(lambda x: x.fillna(x.median()))\n",
    "       \n",
    "    return df\n",
    "\n",
    "# Columnas consideradas para la  imputacion de datos\n",
    "cols_a_rellenar = ['Log GDP per capita', 'Social support', 'Healthy life expectancy at birth', \n",
    "                   'Freedom to make life choices', 'Generosity', 'Perceptions of corruption',\n",
    "                   'Positive affect', 'Negative affect']\n",
    "\n",
    "# Aplicar la función a todas las columnas numéricas con valores faltantes\n",
    "for column in cols_a_rellenar:\n",
    "    df_cleaned = rellenar_faltantes(df_cleaned, column)"
   ]
  },
  {
   "cell_type": "markdown",
   "id": "bbcf667a",
   "metadata": {},
   "source": [
    "3. A continuación, se verifica la existencia de valores duplicados y en el caso de existir, se procede a su eliminación"
   ]
  },
  {
   "cell_type": "code",
   "execution_count": 36,
   "id": "cceaf832",
   "metadata": {},
   "outputs": [
    {
     "name": "stdout",
     "output_type": "stream",
     "text": [
      "Número de filas duplicadas: 0\n"
     ]
    }
   ],
   "source": [
    "# Verificar y eliminar filas duplicadas\n",
    "filas_duplicadas = df_cleaned.duplicated().sum()\n",
    "print(f\"Número de filas duplicadas: {filas_duplicadas}\")\n",
    "\n",
    "# Eliminar duplicados\n",
    "df_cleaned = df_cleaned.drop_duplicates()"
   ]
  },
  {
   "cell_type": "markdown",
   "id": "ecc9651c",
   "metadata": {},
   "source": [
    "4. Se verifica la existencia de valores nulos luego de haber aplicado los pasos anteriores"
   ]
  },
  {
   "cell_type": "code",
   "execution_count": 37,
   "id": "353f1eb0",
   "metadata": {},
   "outputs": [
    {
     "name": "stdout",
     "output_type": "stream",
     "text": [
      "Valores faltantes después de la limpieza:\n",
      " Country name                        0\n",
      "year                                0\n",
      "Life Ladder                         0\n",
      "Log GDP per capita                  0\n",
      "Social support                      0\n",
      "Healthy life expectancy at birth    0\n",
      "Freedom to make life choices        0\n",
      "Generosity                          0\n",
      "Perceptions of corruption           0\n",
      "Positive affect                     0\n",
      "Negative affect                     0\n",
      "Continent                           0\n",
      "dtype: int64\n"
     ]
    }
   ],
   "source": [
    "# Revisar valores faltantes después de la limpieza\n",
    "valores_nulos_post = df_cleaned.isnull().sum()\n",
    "print(\"Valores faltantes después de la limpieza:\\n\", valores_nulos_post)"
   ]
  },
  {
   "cell_type": "markdown",
   "id": "d246fa5d",
   "metadata": {},
   "source": [
    "#### **Paso 5: Almacenamiento de dataframe limpio**"
   ]
  },
  {
   "cell_type": "code",
   "execution_count": 38,
   "id": "a1ea61c7",
   "metadata": {},
   "outputs": [],
   "source": [
    "# Guardar el dataset limpio\n",
    "df_cleaned.to_csv(\"../Data/dataset_limpio.csv\", index=False)"
   ]
  }
 ],
 "metadata": {
  "kernelspec": {
   "display_name": "mi_entorno (Python 3.12)",
   "language": "python",
   "name": "mi_entorno"
  },
  "language_info": {
   "codemirror_mode": {
    "name": "ipython",
    "version": 3
   },
   "file_extension": ".py",
   "mimetype": "text/x-python",
   "name": "python",
   "nbconvert_exporter": "python",
   "pygments_lexer": "ipython3",
   "version": "3.12.2"
  }
 },
 "nbformat": 4,
 "nbformat_minor": 5
}
